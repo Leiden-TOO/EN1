{
 "cells": [
  {
   "cell_type": "markdown",
   "metadata": {},
   "source": [
    "# Fitting data in Python "
   ]
  },
  {
   "cell_type": "markdown",
   "metadata": {},
   "source": [
    "We often want to check whether our experimental data fits our theoretical understanding. After this short tutorial, you will be able to do the following things in Python:\n",
    "* Define a linear function\n",
    "* Fit a curve to some data using curve_fit"
   ]
  },
  {
   "cell_type": "markdown",
   "metadata": {},
   "source": [
    "# Importing functionality with modules\n",
    "We import the same modules as in the previous notebook. We also import a function called \"curve_fit\" from SciPy (Scientific Python). This is the function we use to fit models to our data. "
   ]
  },
  {
   "cell_type": "code",
   "execution_count": 1,
   "metadata": {},
   "outputs": [],
   "source": [
    "import numpy as np  # Numpy stands for \"Numerical Python\". It contains all the nice codes for manipulating data.\n",
    "                    # Numpy is the fundamental package for scientific computing with Python: http://numpy.org/\n",
    "                    # Numpy provides support to mathematically manipulate large, multi-dimensional arrays and matrices.\n",
    "                    # By importing numpy \"as np\", we make sure that all numpy-related functions have np. in front of \n",
    "                    # them like this: np.function()\n",
    "import matplotlib.pyplot as plt # Matplotlib.pyplot gives you code to make pretty graphs!\n",
    "                                # Throughout your studies you will most likely use matplotlib.pyplot \n",
    "                                # to plot any graph you need to illustrate your research\n",
    "                                # By importing pyplot \"as plt\", we make sure that all pyplot-related functions have \n",
    "                                # plt. in front of them like this: plt.function()\n",
    "                \n",
    "from scipy.optimize import curve_fit # Scipy is a HUGE library: it makes no sense to import everything!\n",
    "                                     # So we only import the single function we need."
   ]
  },
  {
   "cell_type": "markdown",
   "metadata": {},
   "source": [
    "# Importing data\n",
    "In the previous tutorials we have seen how to import data and how to plot those data:"
   ]
  },
  {
   "cell_type": "code",
   "execution_count": 2,
   "metadata": {},
   "outputs": [
    {
     "data": {
      "text/plain": [
       "Text(0,0.5,'Resistance (Ohm)')"
      ]
     },
     "execution_count": 2,
     "metadata": {},
     "output_type": "execute_result"
    },
    {
     "data": {
      "image/png": "[encoded data removed]",
      "text/plain": [
       "<Figure size 432x288 with 1 Axes>"
      ]
     },
     "metadata": {},
     "output_type": "display_data"
    }
   ],
   "source": [
    "filename =  \"201809Voorbeeldvervaltijdreelefout.csv\"\n",
    "time, voltage, time_err, voltage_err = np.loadtxt(filename, delimiter=\",\", unpack=True)\n",
    "\n",
    "plt.figure()\n",
    "plt.errorbar(time,voltage,xerr=time_err,yerr=voltage_err,fmt=\"o\", markersize=4, capsize=3)\n",
    "plt.xlabel(\"Time (s)\")\n",
    "plt.ylabel(\"Resistance (Ohm)\")"
   ]
  },
  {
   "cell_type": "markdown",
   "metadata": {},
   "source": [
    "# Linear Data\n",
    "Often we have some expectation from theory about the relation between two quantities. For instance, the theory might predict an exponential relation between two quantities: \\begin{equation*}I = I_0 \\cdot e^{-t/t_0}\\end{equation*} In an experiment, we often want to see two things. First, we want to know whether the theory does indeed describe the experiment. Secondly, we would like to know the values of the parameters in the theory. In this case the values for $I_0$ and $t_0$.\n",
    "\n",
    "To this end, we try to create a curve given by the relation predicted by theory, which closely follows the experimental data points. This procedure is called fitting.\n",
    "\n",
    "Before we can do the actual fit, we have to define a function that describes the theory. We have seen before that in python a function is something that accepts arguments and can return a value. Here we define our own function. The function accepts three variables and returns a value calculated with these variables.\n",
    "\n",
    "To be able to see whether the function describes the experiment it is necessary to linearize your data. There are many advantages of linearizing data. Physically, linearizing exponential curves and power laws increases your *dynamic range*: you will be able to see very small changes, as well as very large changes, with the same accuracy. Practically, it is difficult to tell whether a graph of the data is exactly exponential (or any other non-linear function), or not, but much easier to see whether a graph is roughly linear or not. Mathematically, the statistics of linear fits are described much better than the statistics of non-linear fits.\n",
    "\n",
    "To linearize your data, see section 0.9.2 in the lab manual. For example in the case of \\begin{equation*}I = I_0 \\cdot e^{-t/t_0}\\end{equation*} one would not use $I$ and $t$ to do the curve_fit but instead we would use $ln(I)$ and $t$ which should have a linear relationship if the theory is correct. <i> One can check this by taking the natural logarithm of both sides of the equation: \\begin{equation*}ln(I) = ln(I_0 \\cdot e^{-t/t_0})\\end{equation*}\n",
    "\\begin{equation*}ln(I) = -(1/t_0) \\cdot t + ln(I_0)\\end{equation*}\n",
    "This function is linear in $t$ with $a = -(1/t_0)$ and $b = ln(I_0)$.\n",
    "\n",
    "So to do a proper fit we will always use a linear function. We need to define that function first."
   ]
  },
  {
   "cell_type": "code",
   "execution_count": 3,
   "metadata": {},
   "outputs": [
    {
     "data": {
      "text/plain": [
       "[<matplotlib.lines.Line2D at 0x20a35586208>]"
      ]
     },
     "execution_count": 3,
     "metadata": {},
     "output_type": "execute_result"
    },
    {
     "data": {
      "image/png": "[encoded data removed]",
      "text/plain": [
       "<Figure size 432x288 with 1 Axes>"
      ]
     },
     "metadata": {},
     "output_type": "display_data"
    }
   ],
   "source": [
    "# Here we define a function. We will always use a linear function.\n",
    "# If your data is not linear, linearize it: see section 0.9.2 from the lab manual.\n",
    "def linear_function(x,a,b):\n",
    "    return a*x + b\n",
    "\n",
    "# Here we test the new function\n",
    "x = np.linspace(0,10,100)\n",
    "y=linear_function(x,2,3)\n",
    "plt.plot(x,y)"
   ]
  },
  {
   "cell_type": "markdown",
   "metadata": {},
   "source": [
    "# Fitting the line to our data\n",
    "To make a fit we use the function curve_fit, which we imported in the first cell. The arguments for curve_fit are the function we would like to fit to, the x variables and the y variables.\n",
    "\n",
    "The function curve_fit returns an array with optimal parameters popt and an array with covariances pcov."
   ]
  },
  {
   "cell_type": "code",
   "execution_count": 4,
   "metadata": {},
   "outputs": [
    {
     "name": "stdout",
     "output_type": "stream",
     "text": [
      "yfit = -46.22014179761221 * t + 97.56225573910642\n"
     ]
    }
   ],
   "source": [
    "# Here we calculate the optimal parameters\n",
    "popt, pcov = curve_fit(linear_function, time, voltage, sigma=voltage_err, absolute_sigma=True)\n",
    "# Sigma contains the errors\n",
    "# Absolute_sigma = True tells scipy that we do NOT use relative erros\n",
    "# This is essential! Otherwise pcov will contain garbage.\n",
    "\n",
    "# Here we print the equation for the fitted curve\n",
    "afit=popt[0]\n",
    "bfit=popt[1]\n",
    "print(\"yfit = \"+str(afit)+\" * t + \"+str(bfit))"
   ]
  },
  {
   "cell_type": "markdown",
   "metadata": {},
   "source": [
    "To see whether the fit makes any sense we can plot it together with the original curve."
   ]
  },
  {
   "cell_type": "code",
   "execution_count": 5,
   "metadata": {},
   "outputs": [
    {
     "data": {
      "text/plain": [
       "Text(0,0.5,'Resistance (Ohm)')"
      ]
     },
     "execution_count": 5,
     "metadata": {},
     "output_type": "execute_result"
    },
    {
     "data": {
      "image/png": "[encoded data removed]",
      "text/plain": [
       "<Figure size 432x288 with 1 Axes>"
      ]
     },
     "metadata": {},
     "output_type": "display_data"
    }
   ],
   "source": [
    "# Here we calculate the yvalues \n",
    "yfit = linear_function(time,afit,bfit)\n",
    "\n",
    "plt.figure()\n",
    "plt.errorbar(time,voltage,xerr=time_err,yerr=voltage_err,capsize=2,elinewidth=0.5,fmt=\"o\")\n",
    "plt.plot(time,yfit) #here we plot the fitted curve\n",
    "plt.xlabel(\"Time (s)\")\n",
    "plt.ylabel(\"Resistance (Ohm)\")"
   ]
  },
  {
   "cell_type": "markdown",
   "metadata": {},
   "source": [
    "We also would like to know what the error on the fit parameters is. The curve_fit function also returned the variable pcov. This is the so called covariance matrix. On the diagonal of this matrix you can find the variance of the fit parameters. The variance is the square of the standard deviation. Therefore:"
   ]
  },
  {
   "cell_type": "code",
   "execution_count": 6,
   "metadata": {},
   "outputs": [
    {
     "name": "stdout",
     "output_type": "stream",
     "text": [
      "f = a * x + b\n",
      "with\n",
      "a = -46.22014179761221 ± 2.276604383151824\n",
      "b = 97.56225573910642 ± 2.2607208873625386\n"
     ]
    }
   ],
   "source": [
    "variance_a = pcov[0,0]\n",
    "variance_b = pcov[1,1]\n",
    "\n",
    "sigma_a = np.sqrt(variance_a)\n",
    "sigma_b = np.sqrt(variance_b)\n",
    "\n",
    "print(\"f = a * x + b\")\n",
    "print(\"with\")\n",
    "print(\"a = \"+str(afit)+\" ± \"+str(sigma_a))\n",
    "print(\"b = \"+str(bfit)+\" ± \"+str(sigma_b))"
   ]
  },
  {
   "cell_type": "markdown",
   "metadata": {},
   "source": [
    "Even though the fit will come up with neat numbers for the fit, from the graph you can clearly tell that a linear fit does not work in this case.\n",
    "\n",
    "We therefore need to manipulate the data (according to an underlying theory) to make the data linear. Since in this case we expect an exponential decay we can linearize the data by plotting $ln(R)$ against $Time$."
   ]
  },
  {
   "cell_type": "code",
   "execution_count": 7,
   "metadata": {},
   "outputs": [],
   "source": [
    "# Manipulate the data and the accompanying errors to make it linear.\n",
    "\n",
    "lnVoltage = np.log(voltage)\n",
    "lnVoltage_err = (1/voltage)*voltage_err"
   ]
  },
  {
   "cell_type": "code",
   "execution_count": 8,
   "metadata": {},
   "outputs": [
    {
     "name": "stdout",
     "output_type": "stream",
     "text": [
      "yfit = -0.7690989228453038 * t + 4.660420831728597\n"
     ]
    }
   ],
   "source": [
    "# Here we calculate the optimal parameters\n",
    "popt, pcov = curve_fit(linear_function, time, lnVoltage,sigma=lnVoltage_err)\n",
    "\n",
    "# Here we print the equation for the fitted curve\n",
    "afit=popt[0]\n",
    "bfit=popt[1]\n",
    "print(\"yfit = \"+str(afit)+\" * t + \"+str(bfit))"
   ]
  },
  {
   "cell_type": "code",
   "execution_count": 9,
   "metadata": {},
   "outputs": [
    {
     "data": {
      "text/plain": [
       "Text(0,0.5,'ln(Resistance) (ln(Ohm)')"
      ]
     },
     "execution_count": 9,
     "metadata": {},
     "output_type": "execute_result"
    },
    {
     "data": {
      "image/png": "[encoded data removed]",
      "text/plain": [
       "<Figure size 432x288 with 1 Axes>"
      ]
     },
     "metadata": {},
     "output_type": "display_data"
    }
   ],
   "source": [
    "# Here we calculate the yvalues \n",
    "yfit = linear_function(time,afit,bfit)\n",
    "\n",
    "plt.figure()\n",
    "plt.errorbar(time,lnVoltage,xerr=time_err,yerr=lnVoltage_err,capsize=2,elinewidth=0.5,fmt=\"o\")\n",
    "plt.plot(time,yfit) #here we plot the fitted curve\n",
    "plt.xlabel(\"Time (s)\")\n",
    "plt.ylabel(\"ln(Resistance) (ln(Ohm)\")"
   ]
  },
  {
   "cell_type": "markdown",
   "metadata": {},
   "source": [
    "<b>Check whether the linear fit now neatly follows the data.</b>"
   ]
  },
  {
   "cell_type": "code",
   "execution_count": 10,
   "metadata": {},
   "outputs": [
    {
     "name": "stdout",
     "output_type": "stream",
     "text": [
      "f = a * x + b\n",
      "with\n",
      "a = -0.7690989228453038 ± 0.00022989732762927542\n",
      "b = 4.660420831728597 ± 0.00016986368642559776\n"
     ]
    }
   ],
   "source": [
    "variance_a = pcov[0,0]\n",
    "variance_b = pcov[1,1]\n",
    "\n",
    "sigma_a = np.sqrt(variance_a)\n",
    "sigma_b = np.sqrt(variance_b)\n",
    "\n",
    "print(\"f = a * x + b\")\n",
    "print(\"with\")\n",
    "print(\"a = \"+str(afit)+\" ± \"+str(sigma_a))\n",
    "print(\"b = \"+str(bfit)+\" ± \"+str(sigma_b))"
   ]
  },
  {
   "cell_type": "markdown",
   "metadata": {},
   "source": [
    "<b>Note that the errors in the returned values should now be much smaller than before!</b>"
   ]
  },
  {
   "cell_type": "markdown",
   "metadata": {},
   "source": [
    "Also note that python returns values with many insignificant numbers and without units. Make sure that you report the values in the correct significant numbers and units in your labjournal/report.<BR>\n",
    "<i>The error should never have more than 1 significant digit and the calculated value should be rounded off to the position of that error digit.</i>"
   ]
  },
  {
   "cell_type": "markdown",
   "metadata": {},
   "source": [
    "<b>Now finish this fitprocedure and calculate the values of $t_0$ and $I_0$ for this data <i>including</i> their errors!</b>"
   ]
  },
  {
   "cell_type": "code",
   "execution_count": 11,
   "metadata": {},
   "outputs": [],
   "source": [
    "# Your code here:\n"
   ]
  },
  {
   "cell_type": "markdown",
   "metadata": {
    "collapsed": true
   },
   "source": [
    "## Happy fitting!"
   ]
  },
  {
   "cell_type": "code",
   "execution_count": 12,
   "metadata": {},
   "outputs": [],
   "source": [
    "# Your code here: try fitting some fictitious data for yourself\n"
   ]
  }
 ],
 "metadata": {
  "kernelspec": {
   "display_name": "Python 3",
   "language": "python",
   "name": "python3"
  },
  "language_info": {
   "codemirror_mode": {
    "name": "ipython",
    "version": 3
   },
   "file_extension": ".py",
   "mimetype": "text/x-python",
   "name": "python",
   "nbconvert_exporter": "python",
   "pygments_lexer": "ipython3",
   "version": "3.6.5"
  }
 },
 "nbformat": 4,
 "nbformat_minor": 2
}
