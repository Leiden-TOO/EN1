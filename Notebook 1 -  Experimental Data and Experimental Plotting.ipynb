{
 "cells": [
  {
   "cell_type": "markdown",
   "metadata": {},
   "source": [
    "# Applying Python to Experiments"
   ]
  },
  {
   "cell_type": "markdown",
   "metadata": {},
   "source": [
    "In the first notebook, you saw how you could use Python to perform quick manipulations to data. After this short tutorial, you will be able to apply that knowledge to real experiments. More specifically, you will be able to do the following things in Python:\n",
    "\n",
    "* Import data from an experiment into Python\n",
    "* Plot data with error bars\n",
    "* Manipulate data\n",
    "* Propagate errors\n",
    "* Save analyzed data back to disk"
   ]
  },
  {
   "cell_type": "markdown",
   "metadata": {},
   "source": [
    "# Importing functionality with modules\n",
    "We import the same modules as in the previous notebook."
   ]
  },
  {
   "cell_type": "code",
   "execution_count": 1,
   "metadata": {},
   "outputs": [],
   "source": [
    "import numpy as np  # Numpy stands for \"Numerical Python\". It contains all the nice codes for manipulating data.\n",
    "                    # Numpy is the fundamental package for scientific computing with Python: http://numpy.org/\n",
    "                    # Numpy provides support to mathematically manipulate large, multi-dimensional arrays and matrices.\n",
    "                    # By importing numpy \"as np\", we make sure that all numpy-related functions have np. in front of \n",
    "                    # them like this: np.function()\n",
    "import matplotlib.pyplot as plt # Matplotlib.pyplot gives you code to make pretty graphs!\n",
    "                                # Throughout your studies you will most likely use matplotlib.pyplot \n",
    "                                # to plot any graph you need to illustrate your research\n",
    "                                # By importing pyplot \"as plt\", we make sure that all pyplot-related functions have \n",
    "                                # plt. in front of them like this: plt.function()"
   ]
  },
  {
   "cell_type": "markdown",
   "metadata": {},
   "source": [
    "# Importing Experimental Data\n",
    "Data is often saved in a text file on a computer. Usually, the measured values are seperated by comma into columns. We call this *comma seperated values*: csv.\n",
    "\n",
    "In the next cell, we import data from an experiment where we measured the decay of some substance. The data file has four columns. The first column of the data contains time, the second voltage, the third measurement error in time, the last measurement error in voltage. \n",
    "\n",
    "We first assign the name of our data file to a variable called filename. If you use this notebook in your own experiment, edit the filename to match your data. Make sure the filename is the complete filename of the file you want to import.\n",
    "\n",
    "The function np.loadtxt loads a data file. It takes two arguments. The first is the filename and the second is the delimiter (the character separating the entries in your data file).\n",
    "\n",
    "Python will look for this file in the folder where the notebook is being executed. You can also specify an absolute path.\n",
    "\n",
    "Run the next cell."
   ]
  },
  {
   "cell_type": "code",
   "execution_count": 3,
   "metadata": {},
   "outputs": [
    {
     "name": "stdout",
     "output_type": "stream",
     "text": [
      "[[0.000e+00 1.057e+02 3.000e-02 4.171e+00]\n",
      " [2.000e-01 9.060e+01 3.000e-02 3.718e+00]\n",
      " [4.000e-01 7.770e+01 3.000e-02 3.331e+00]\n",
      " [6.000e-01 6.660e+01 3.000e-02 2.998e+00]\n",
      " [8.000e-01 5.710e+01 3.000e-02 2.713e+00]\n",
      " [1.000e+00 4.900e+01 3.000e-02 2.470e+00]\n",
      " [1.200e+00 4.200e+01 3.000e-02 2.260e+00]\n",
      " [1.400e+00 3.600e+01 3.000e-02 2.080e+00]]\n"
     ]
    }
   ],
   "source": [
    "filename =  \"201809Voorbeeldvervaltijdreelefout.csv\"\n",
    "mydata = np.loadtxt(filename, delimiter=\",\")\n",
    "print(mydata)"
   ]
  },
  {
   "cell_type": "markdown",
   "metadata": {},
   "source": [
    "As you can see, the data indeed consists of four columns. It would be very nice if we could manipulate these columns seperately! Luckily, we can do so by specifying four arrays the function np.loadtxt can output to:"
   ]
  },
  {
   "cell_type": "code",
   "execution_count": 4,
   "metadata": {},
   "outputs": [],
   "source": [
    "time, voltage, time_err, voltage_err = np.loadtxt(filename, delimiter=\",\", unpack=True)"
   ]
  },
  {
   "cell_type": "markdown",
   "metadata": {
    "collapsed": true
   },
   "source": [
    "### Test your understanding:\n",
    "Print the newly made arrays to check that we really succeeded in splitting the data into four arrays."
   ]
  },
  {
   "cell_type": "code",
   "execution_count": 6,
   "metadata": {
    "collapsed": true
   },
   "outputs": [],
   "source": []
  },
  {
   "cell_type": "markdown",
   "metadata": {},
   "source": [
    "# Plot data with error bars\n",
    "We could plot the data using plt.plot. However, we also want to indicate our measurement error using error bars. We use plt.errorbar instead. This function is similar to plt.plot, but allows for simple plotting of errorbars.\n",
    "\n",
    "The argument fmt=\"o\" makes sure that every data point is plotted seperately. **Never use line plots for experimental data, always use scatter plots!** See the documentation for errorbar (https://matplotlib.org/3.1.1/api/_as_gen/matplotlib.pyplot.errorbar.html), for the allowed inputs. When plotting measurement data, we typically do not plot a line connecting the datapoints. This is because such a line suggests that we have information about the points between our measurements. \n",
    "\n",
    "What we typically do show is a curve representing the theoretical expectations or fitted data. In the next notebook (2. fitting) we will discuss how to plot such a fitted curve."
   ]
  },
  {
   "cell_type": "code",
   "execution_count": 9,
   "metadata": {
    "scrolled": true
   },
   "outputs": [
    {
     "data": {
      "text/plain": [
       "'The argument fmt=\"o\" is added so we do not get an unmeasured (and thus undesired) linegraph through our measuring points!'"
      ]
     },
     "execution_count": 9,
     "metadata": {},
     "output_type": "execute_result"
    },
    {
     "data": {
      "image/png": "[encoded data removed]",
      "text/plain": [
       "<Figure size 432x288 with 1 Axes>"
      ]
     },
     "metadata": {},
     "output_type": "display_data"
    }
   ],
   "source": [
    "plt.figure()\n",
    "plt.errorbar(time,voltage,xerr=time_err,yerr=voltage_err,fmt=\"o\", markersize=4, capsize=3)\n",
    "\"\"\"The argument fmt=\"o\" is added so we do not get an unmeasured (and thus undesired) linegraph through our measuring points!\"\"\" "
   ]
  },
  {
   "cell_type": "markdown",
   "metadata": {},
   "source": [
    "# Manipulating data and errors\n",
    "We can apply all kinds of mathematical operations to the data. For instance if we are measuring the voltage over some special component for which the resistance is given by $R = 5V^2$, we can define a new variable $R$ and its error using $\\sigma_y=|\\frac{dy}{dx}|\\sigma_x$:"
   ]
  },
  {
   "cell_type": "code",
   "execution_count": 10,
   "metadata": {},
   "outputs": [
    {
     "data": {
      "text/plain": [
       "Text(0,0.5,'y (unit of y)')"
      ]
     },
     "execution_count": 10,
     "metadata": {},
     "output_type": "execute_result"
    },
    {
     "data": {
      "image/png": "[encoded data removed]",
      "text/plain": [
       "<Figure size 432x288 with 1 Axes>"
      ]
     },
     "metadata": {},
     "output_type": "display_data"
    }
   ],
   "source": [
    "# Calculating R is quite easy\n",
    "R = 5*voltage**2\n",
    "# Calculating the propagated error in R is more difficult. We now need the error propagation formula:\n",
    "# error y = dy/dx * error x\n",
    "R_err = 10*voltage*voltage_err\n",
    "# And now we can plot an R vs time graph with correct errorbars.\n",
    "plt.errorbar(time,R,xerr=time_err,yerr=R_err,fmt=\"o\",capsize=3,markersize=4)\n",
    "plt.xlabel(\"x (unit of x)\")\n",
    "plt.ylabel(\"y (unit of y)\")"
   ]
  },
  {
   "cell_type": "markdown",
   "metadata": {
    "collapsed": true
   },
   "source": [
    "### Test your understanding:\n",
    "Suppose we made a tiny mistake; we forgot a linear term. The actual relation between $R$ and $V$ is $R = 5V^2 -0.2V$. Rewrite the code to reflect this change. How do the errors change? \n"
   ]
  },
  {
   "cell_type": "code",
   "execution_count": 15,
   "metadata": {
    "collapsed": true
   },
   "outputs": [],
   "source": []
  },
  {
   "cell_type": "markdown",
   "metadata": {},
   "source": [
    "# Save data\n",
    "To save the Resistance data that we have calculated together with the original time and Voltage data, we can use np.savetxt. So that other people can also use our data, we explain our data with a header:"
   ]
  },
  {
   "cell_type": "code",
   "execution_count": 12,
   "metadata": {},
   "outputs": [],
   "source": [
    "header=\"time(s), V (V), R (Ohm), time error (s), V error (Volt), R error (Ohm)\"\n",
    "np.savetxt(\"myoutputfile.csv\",np.c_[time, voltage, R, time_err, voltage_err, R_err],delimiter=\",\", header=header)"
   ]
  },
  {
   "cell_type": "markdown",
   "metadata": {},
   "source": [
    "Some notes:\n",
    "* np.savetxt overwrites any existing files without asking\n",
    "* When performing data analysis, never alter the original measurement data. Therefore store the results of your analysis in a different file than that of your original data.\n",
    "* Keep track of which scripts, figures and datafiles belong to which experiment in your labjournal. You should be able to find back the digital files which belong to a certain lab journal entry and the other way around. \n",
    "* Consider using date, time and usernames in your filenames."
   ]
  },
  {
   "cell_type": "markdown",
   "metadata": {
    "collapsed": true
   },
   "source": [
    "## Enjoy analyzing data!"
   ]
  },
  {
   "cell_type": "code",
   "execution_count": 13,
   "metadata": {},
   "outputs": [],
   "source": [
    "# If you want to analyze your own data during your experiments, and use this notebook, continue here."
   ]
  }
 ],
 "metadata": {
  "kernelspec": {
   "display_name": "Python 3",
   "language": "python",
   "name": "python3"
  },
  "language_info": {
   "codemirror_mode": {
    "name": "ipython",
    "version": 3
   },
   "file_extension": ".py",
   "mimetype": "text/x-python",
   "name": "python",
   "nbconvert_exporter": "python",
   "pygments_lexer": "ipython3",
   "version": "3.6.5"
  }
 },
 "nbformat": 4,
 "nbformat_minor": 2
}
